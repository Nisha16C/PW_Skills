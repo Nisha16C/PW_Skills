{
 "cells": [
  {
   "cell_type": "markdown",
   "id": "64f89889-6f4d-4ec7-9c86-807fb8286da4",
   "metadata": {},
   "source": [
    "# Q1. who developed python programming language?"
   ]
  },
  {
   "cell_type": "markdown",
   "id": "dcb28f03-7873-4cbb-8b96-adf4d7d39868",
   "metadata": {},
   "source": [
    "Python programming language was developed by Guido van Rossum in the late 1980s, and the first version of Python was released in 1991."
   ]
  },
  {
   "cell_type": "markdown",
   "id": "8e15d094-0735-429d-ac16-80b58fe36bfd",
   "metadata": {},
   "source": [
    "# Q2. which type of programming does python support?"
   ]
  },
  {
   "cell_type": "markdown",
   "id": "a101f91a-c2ff-425f-8318-4ee0afdc081a",
   "metadata": {},
   "source": [
    "Python supports multiple programming paradigms such as object-oriented, procedural, functional, and aspect-oriented programming."
   ]
  },
  {
   "cell_type": "markdown",
   "id": "75621944-c640-4500-a5cd-11898a9eb56c",
   "metadata": {},
   "source": [
    "# Q3. Is python case sensitive when dealing with identifiers?"
   ]
  },
  {
   "cell_type": "markdown",
   "id": "3f523a4f-c7b4-4d35-ad27-ca6b53d4f965",
   "metadata": {},
   "source": [
    "Yes, Python is a case-sensitive programming language, which means that uppercase and lowercase letters are considered different. For example, variables `myVar` and `myvar` are two different variables in Python."
   ]
  },
  {
   "cell_type": "markdown",
   "id": "355295fc-d71d-49ac-a629-5c2150b70f81",
   "metadata": {},
   "source": [
    "# Q4. what is the correct extension of the python file?"
   ]
  },
  {
   "cell_type": "markdown",
   "id": "b36ff2d1-d6d5-4847-94a0-9af72ce8bba1",
   "metadata": {},
   "source": [
    "The correct extension of a Python file is \".py\"."
   ]
  },
  {
   "cell_type": "markdown",
   "id": "fbdf2e46-c413-4c01-a1fb-95e3f91ff5e2",
   "metadata": {},
   "source": [
    "# Q5. Is python code compiled or interpreted?"
   ]
  },
  {
   "cell_type": "markdown",
   "id": "61c80971-b628-4d5b-99f7-7c2cd8fa1231",
   "metadata": {},
   "source": [
    "Python code is interpreted. When you execute a Python program, the Python interpreter reads your code line by line and executes it immediately. Unlike compiled languages, Python does not need to be compiled before being executed."
   ]
  },
  {
   "cell_type": "markdown",
   "id": "7d635f17-f5c5-43b5-a3ed-182c73d8a530",
   "metadata": {},
   "source": [
    "# Q6. Name a few blocks of code used to define in python language"
   ]
  },
  {
   "cell_type": "markdown",
   "id": "60421be1-4832-4d49-afc4-65ee2a283d75",
   "metadata": {},
   "source": [
    "In Python, blocks of code are defined using indentation. Some of the commonly used code blocks in Python are:\n",
    "\n",
    "- Function blocks\n",
    "- Conditional blocks (if-else)\n",
    "- Looping blocks (for, while)\n",
    "- Try-Except blocks\n",
    "- Class blocks"
   ]
  },
  {
   "cell_type": "markdown",
   "id": "e9d567c6-5847-458f-89ac-e3b929fbb68a",
   "metadata": {},
   "source": [
    "# Q7. state a character used to give single-line comments in python"
   ]
  },
  {
   "cell_type": "markdown",
   "id": "08e48914-e277-4b5b-b1ce-f7600add50cb",
   "metadata": {},
   "source": [
    "The character used to give a single-line comment in Python is the hash symbol (#)."
   ]
  },
  {
   "cell_type": "markdown",
   "id": "70d9b81f-47a0-4321-9a1f-750e0680abaa",
   "metadata": {},
   "source": [
    "# Q8. mention functions which can help us to find the version of python that we are currently working on"
   ]
  },
  {
   "cell_type": "markdown",
   "id": "45d58bee-78ba-4925-9fce-4723573bfe0d",
   "metadata": {},
   "source": [
    "We can use the following functions to find the version of Python:\n",
    "\n",
    "1. sys module: We can use the sys module to find the version of Python. We can use sys.version to get the version of Python.\n",
    "\n",
    "2. platform module: We can use the platform module to find the version of Python. We can use platform.python_version() to get the version of Python.\n",
    "\n",
    "3. sysconfig module: We can use the sysconfig module to find the version of Python. We can use sysconfig.get_python_version() to get the version of Python."
   ]
  },
  {
   "cell_type": "markdown",
   "id": "c76ca6fa-3a4e-4e60-9b96-e294d2684551",
   "metadata": {},
   "source": [
    "# Q9. python supports the creation of anonymous functions at runtime, using a construct called ____________"
   ]
  },
  {
   "cell_type": "markdown",
   "id": "52e0ab25-20f9-433b-8487-371d712880e2",
   "metadata": {},
   "source": [
    "lambda functions."
   ]
  },
  {
   "cell_type": "markdown",
   "id": "db87afa3-8605-46c8-83fb-1b232c639cec",
   "metadata": {},
   "source": [
    "# Q10. what does pip stand for python"
   ]
  },
  {
   "cell_type": "markdown",
   "id": "c1a4b2bf-bef8-4935-9a02-8700938a37dc",
   "metadata": {},
   "source": [
    "PIP stands for \"Pip Installs Packages\" or \"Pip Installs Python\"."
   ]
  },
  {
   "cell_type": "markdown",
   "id": "168f4104-cb29-4d03-9e86-e6129c026f90",
   "metadata": {},
   "source": [
    "# Q11. mention a few built-in functions in python?"
   ]
  },
  {
   "cell_type": "markdown",
   "id": "e6a6557f-fedc-4972-9986-020d53a381cd",
   "metadata": {},
   "source": [
    "Here are a few built-in functions in Python:\n",
    "\n",
    "1. print()\n",
    "2. len()\n",
    "3. range()\n",
    "4. input()\n",
    "5. type()\n",
    "6. int()\n",
    "7. float()\n",
    "8. str()\n",
    "9. list()\n",
    "10. dict()\n",
    "11. set()\n",
    "12. abs()\n",
    "13. sum()\n",
    "14. max()\n",
    "15. min()\n",
    "16. round()\n",
    "17. all()\n",
    "18. any()\n",
    "19. zip()\n",
    "20. map()\n",
    "21. filter()\n",
    "22. sorted()\n",
    "23. enumerate()"
   ]
  },
  {
   "cell_type": "markdown",
   "id": "684a3ac9-e1d7-434c-b4ec-5a25b31b1159",
   "metadata": {},
   "source": [
    "# Q12. what is the maximum possible length of an identifier in python"
   ]
  },
  {
   "cell_type": "markdown",
   "id": "b84e0526-5713-4642-b7b3-64fe03d58786",
   "metadata": {},
   "source": [
    "In Python, the maximum length of an identifier is not defined, which means it can be of any length. However, it is recommended to keep identifiers reasonably short and meaningful for better code readability."
   ]
  },
  {
   "cell_type": "markdown",
   "id": "f66a82cd-3b09-43ac-9c6e-9e16489f57dc",
   "metadata": {},
   "source": [
    "# Q13. what are the benefits of using python?"
   ]
  },
  {
   "cell_type": "markdown",
   "id": "e8cab854-999d-4739-964c-b5e0228453c9",
   "metadata": {},
   "source": [
    "There are several benefits of using Python programming language, some of which are:\n",
    "\n",
    "1. Easy to Learn and Use: Python has a simple syntax and easy-to-understand coding structure, which makes it easier for beginners to learn and use.\n",
    "\n",
    "2. Open-Source: Python is open-source, which means it is free to download, use and distribute.\n",
    "\n",
    "3. Large Standard Library: Python has a large standard library that provides support for many common programming tasks, including string operations, file I/O, and network programming.\n",
    "\n",
    "4. Cross-Platform Compatibility: Python can run on multiple operating systems, including Windows, Linux, and Mac OS.\n",
    "\n",
    "5. Strong Community Support: Python has a large and active community of developers who contribute to its growth and development. This means that there are many resources available online for learning and problem-solving.\n",
    "\n",
    "6. Versatile: Python can be used for various purposes, including web development, machine learning, data analysis, scientific computing, and more.\n",
    "\n",
    "7. High-level Language: Python is a high-level language, which means it abstracts away many of the low-level details of the machine, making it easier to write code quickly and efficiently.\n"
   ]
  },
  {
   "cell_type": "markdown",
   "id": "82d9342c-dc4d-466f-8421-efbfa8b2f031",
   "metadata": {},
   "source": [
    "# Q14. How is memory managed in python?"
   ]
  },
  {
   "cell_type": "markdown",
   "id": "ca04ac64-2f8e-4a83-94cf-0ab73231082c",
   "metadata": {},
   "source": [
    "Memory management in Python is done automatically through a process called garbage collection. Python has its own memory manager, which handles the allocation and deallocation of memory for the program.\n",
    "\n",
    "Python uses a private heap space to store objects, which is managed by the memory manager. The memory manager uses two techniques to manage the heap space: reference counting and garbage collection.\n",
    "\n",
    "Overall, Python's memory management system provides automatic memory management, which simplifies the coding process and allows developers to focus on the logic of the program rather than worrying about memory management."
   ]
  },
  {
   "cell_type": "markdown",
   "id": "a510a88f-7c12-47d7-91d3-4d89b98afc0a",
   "metadata": {},
   "source": [
    "# Q15. how to install python on Windows and set path variables"
   ]
  },
  {
   "cell_type": "markdown",
   "id": "e0ebf546-fa1c-49f1-9f4f-6395e54efbb5",
   "metadata": {},
   "source": [
    "To install Python on Windows, follow the below steps:\n",
    "\n",
    "1. Download the latest version of Python from the official website https://www.python.org/downloads/ based on your system architecture (32-bit or 64-bit).\n",
    "\n",
    "2. Run the downloaded executable installer.\n",
    "\n",
    "3. On the first screen, check the box for \"Add Python 3.x to PATH\" and click on \"Customize installation\".\n",
    "\n",
    "4. Choose the optional features that you want to install and click \"Next\".\n",
    "\n",
    "5. Select the installation directory and click \"Next\".\n",
    "\n",
    "6. Click on the \"Install\" button and wait for the installation to complete.\n",
    "\n",
    "### To set the path variables, follow the below steps:\n",
    "\n",
    "1. Right-click on \"My Computer\" or \"This PC\" and select \"Properties\".\n",
    "\n",
    "2. Click on \"Advanced system settings\" on the left side.\n",
    "\n",
    "3. Click on \"Environment Variables\".\n",
    "\n",
    "4. Under \"System Variables\", scroll down and click on \"Path\" and click on \"Edit\".\n",
    "\n",
    "5. Click on \"New\" and add the path to the Python installation directory (e.g., C:\\Python3x) and click on \"OK\".\n",
    "\n",
    "6. Click on \"OK\" to close all the windows.\n",
    "\n",
    "7. Open the command prompt and type \"python\" to check if Python is installed correctly and the path variable is set up correctly."
   ]
  },
  {
   "cell_type": "markdown",
   "id": "7066a24c-77b6-4e35-be97-c0d5922a6b92",
   "metadata": {},
   "source": [
    "# Q16. Is indentation required in python?"
   ]
  },
  {
   "cell_type": "markdown",
   "id": "d26149c7-2890-47a4-bae1-31e0c6ef64fd",
   "metadata": {},
   "source": [
    "Yes, indentation is required in Python. In other programming languages, blocks of code are typically delimited by curly braces or keywords such as \"begin\" and \"end\". However, in Python, blocks of code are delimited by their indentation level. This means that the amount of whitespace at the beginning of each line of code is important, and Python code will not run correctly if the indentation is incorrect. Indentation is used to group statements together into blocks, such as within a function or a loop."
   ]
  }
 ],
 "metadata": {
  "kernelspec": {
   "display_name": "Python 3 (ipykernel)",
   "language": "python",
   "name": "python3"
  },
  "language_info": {
   "codemirror_mode": {
    "name": "ipython",
    "version": 3
   },
   "file_extension": ".py",
   "mimetype": "text/x-python",
   "name": "python",
   "nbconvert_exporter": "python",
   "pygments_lexer": "ipython3",
   "version": "3.10.8"
  }
 },
 "nbformat": 4,
 "nbformat_minor": 5
}
