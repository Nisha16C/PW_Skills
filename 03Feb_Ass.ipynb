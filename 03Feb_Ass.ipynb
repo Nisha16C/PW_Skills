{
 "cells": [
  {
   "cell_type": "markdown",
   "id": "6299068a-849d-4225-b4ec-4dbbffe948eb",
   "metadata": {},
   "source": [
    "# Q1. Which keyword is used to create a function? Create a function to return a list of odd numbers in the range of 1 to 25."
   ]
  },
  {
   "cell_type": "markdown",
   "id": "72a7620e-cece-4c47-8255-f69174b7ad7e",
   "metadata": {},
   "source": [
    "The keyword used to create a function in Python is def.\n",
    "\n",
    "Here's the Python code to create a function that returns a list of odd numbers in the range of 1 to 25:"
   ]
  },
  {
   "cell_type": "code",
   "execution_count": 1,
   "id": "62102593-0276-4521-9f28-a6941ae13536",
   "metadata": {},
   "outputs": [
    {
     "name": "stdout",
     "output_type": "stream",
     "text": [
      "[1, 3, 5, 7, 9, 11, 13, 15, 17, 19, 21, 23, 25]\n"
     ]
    }
   ],
   "source": [
    "def get_odd_numbers():\n",
    "    odd_numbers = []\n",
    "    for i in range(1, 26):\n",
    "        if i % 2 == 1:\n",
    "            odd_numbers.append(i)\n",
    "    return odd_numbers\n",
    "\n",
    "# Call the function and print the result\n",
    "print(get_odd_numbers())\n"
   ]
  },
  {
   "cell_type": "code",
   "execution_count": null,
   "id": "7298eb0c-303f-4d8d-afec-ad00a5cfc374",
   "metadata": {},
   "outputs": [],
   "source": []
  },
  {
   "cell_type": "markdown",
   "id": "c006c6c0-87f4-4b57-9c22-a297da441d83",
   "metadata": {},
   "source": [
    "# Q2. Why *args and **kwargs is used in some functions? Create a function each for *args and **kwargs to demonstrate their use."
   ]
  },
  {
   "cell_type": "markdown",
   "id": "1aa273e5-5cbe-462b-b7a8-0fe7eae71cf7",
   "metadata": {},
   "source": [
    "*args and **kwargs are used in Python functions to accept an arbitrary number of arguments, which can make the function more flexible and versatile.\n",
    "\n",
    "*args is used to pass a variable number of arguments to a function. It allows us to pass any number of positional arguments to the function, which are then collected into a tuple. We can use the *args syntax in the function definition to indicate that the function accepts a variable number of arguments.\n",
    "\n",
    "Here's an example of a function that uses *args to calculate the sum of an arbitrary number of numbers:"
   ]
  },
  {
   "cell_type": "code",
   "execution_count": 2,
   "id": "d1712cc8-b4f6-4353-831a-6116b3b97586",
   "metadata": {},
   "outputs": [
    {
     "name": "stdout",
     "output_type": "stream",
     "text": [
      "6\n",
      "9\n",
      "30\n"
     ]
    }
   ],
   "source": [
    "def sum_numbers(*args):\n",
    "    total = 0\n",
    "    for num in args:\n",
    "        total += num\n",
    "    return total\n",
    "\n",
    "# Call the function with different numbers of arguments\n",
    "print(sum_numbers(1, 2, 3))   # Output: 6\n",
    "print(sum_numbers(4, 5))      # Output: 9\n",
    "print(sum_numbers(6, 7, 8, 9))# Output: 30\n"
   ]
  },
  {
   "cell_type": "markdown",
   "id": "62d3eaa3-e15b-4227-9292-2d0cf96899d4",
   "metadata": {},
   "source": [
    "**kwargs is used to pass a variable number of keyword arguments to a function. It allows us to pass any number of keyword arguments to the function, which are then collected into a dictionary. We can use the **kwargs syntax in the function definition to indicate that the function accepts a variable number of keyword arguments.\n",
    "\n",
    "Here's an example of a function that uses **kwargs to print out an arbitrary number of key-value pairs:"
   ]
  },
  {
   "cell_type": "code",
   "execution_count": 3,
   "id": "7bb52428-19d1-4969-8329-f3bc704d9a27",
   "metadata": {},
   "outputs": [
    {
     "name": "stdout",
     "output_type": "stream",
     "text": [
      "name : John\n",
      "age : 30\n",
      "city : New York\n",
      "country : USA\n"
     ]
    }
   ],
   "source": [
    "def print_kwargs(**kwargs):\n",
    "    for key, value in kwargs.items():\n",
    "        print(key, \":\", value)\n",
    "\n",
    "# Call the function with different keyword arguments\n",
    "print_kwargs(name=\"John\", age=30)   # Output: name : John, age : 30\n",
    "print_kwargs(city=\"New York\", country=\"USA\") # Output: city : New York, country : USA\n"
   ]
  },
  {
   "cell_type": "code",
   "execution_count": null,
   "id": "c102a5af-f6bd-45bc-b05d-33e7ca56c8f7",
   "metadata": {},
   "outputs": [],
   "source": []
  },
  {
   "cell_type": "markdown",
   "id": "a47e52ad-a6d1-48c3-a6d5-8d6ac5f22eaf",
   "metadata": {},
   "source": [
    "# Q3. What is an iterator in python? Name the method used to initialise the iterator object and the method used for iteration. Use these methods to print the first five elements of the given list [2, 4, 6, 8, 10, 12, 14, 16, 18, 20]."
   ]
  },
  {
   "cell_type": "markdown",
   "id": "5c27ae5c-2c7d-446e-91d7-71a919099494",
   "metadata": {},
   "source": [
    "An iterator in Python is an object that represents a stream of data. It is an object that implements the iterator protocol, which consists of two methods: __iter__() and __next__().\n",
    "\n",
    "The __iter__() method is used to initialize the iterator object and return it. The __next__() method is used to retrieve the next item in the stream of data. If there are no more items, the __next__() method should raise the StopIteration exception.\n",
    "\n",
    "To print the first five elements of the list [2, 4, 6, 8, 10, 12, 14, 16, 18, 20] using an iterator, we can use the built-in iter() function to create an iterator object from the list, and the next() function to retrieve the next item in the iterator:"
   ]
  },
  {
   "cell_type": "code",
   "execution_count": 4,
   "id": "3b118eb0-b398-4315-97c5-c286aa478342",
   "metadata": {},
   "outputs": [
    {
     "name": "stdout",
     "output_type": "stream",
     "text": [
      "2\n",
      "4\n",
      "6\n",
      "8\n",
      "10\n"
     ]
    }
   ],
   "source": [
    "my_list = [2, 4, 6, 8, 10, 12, 14, 16, 18, 20]\n",
    "\n",
    "# Create an iterator object using the iter() function\n",
    "my_iter = iter(my_list)\n",
    "\n",
    "# Use the next() function to retrieve the next item in the iterator\n",
    "print(next(my_iter)) # Output: 2\n",
    "print(next(my_iter)) # Output: 4\n",
    "print(next(my_iter)) # Output: 6\n",
    "print(next(my_iter)) # Output: 8\n",
    "print(next(my_iter)) # Output: 10\n"
   ]
  },
  {
   "cell_type": "markdown",
   "id": "17bfd408-8047-41c1-8c28-71d9211cd0ea",
   "metadata": {},
   "source": [
    "We can also use a for loop to iterate through the iterator and print out all the elements of the list:"
   ]
  },
  {
   "cell_type": "code",
   "execution_count": 5,
   "id": "63335365-b8ba-4215-ad9b-5d0d30e84a57",
   "metadata": {},
   "outputs": [
    {
     "name": "stdout",
     "output_type": "stream",
     "text": [
      "2\n",
      "4\n",
      "6\n",
      "8\n",
      "10\n"
     ]
    }
   ],
   "source": [
    "my_list = [2, 4, 6, 8, 10, 12, 14, 16, 18, 20]\n",
    "\n",
    "# Create an iterator object using the iter() function\n",
    "my_iter = iter(my_list)\n",
    "\n",
    "# Use a for loop to iterate through the iterator and print out each element\n",
    "for i in range(5):\n",
    "    print(next(my_iter))\n"
   ]
  },
  {
   "cell_type": "code",
   "execution_count": null,
   "id": "7f58e111-965e-4193-b3ae-71678aeb74f8",
   "metadata": {},
   "outputs": [],
   "source": []
  },
  {
   "cell_type": "markdown",
   "id": "b41d97d2-c362-4a3b-865b-cd73fcb29c80",
   "metadata": {},
   "source": [
    "# Q4. What is a generator function in python? Why yield keyword is used? Give an example of a generator function."
   ]
  },
  {
   "cell_type": "markdown",
   "id": "30bb946b-b513-4047-a0f8-46dac42a2a1a",
   "metadata": {},
   "source": [
    "A generator function in Python is a type of function that allows you to generate a sequence of values over time, rather than all at once. The main difference between a regular function and a generator function is that a generator function uses the yield keyword instead of the return keyword to return a value. When a generator function is called, it returns a generator object, which can be used to iterate over the sequence of values generated by the function.\n",
    "\n",
    "The yield keyword is used to produce a value from the generator function and pause the function's execution, without destroying the local variables and state of the function. When the next value is requested from the generator object, the function resumes its execution from the point where it left off.\n",
    "\n",
    "Here's an example of a generator function that generates a sequence of even numbers:\n"
   ]
  },
  {
   "cell_type": "code",
   "execution_count": 6,
   "id": "416063a7-b742-45b4-b5a4-abfeaea500d0",
   "metadata": {},
   "outputs": [
    {
     "name": "stdout",
     "output_type": "stream",
     "text": [
      "0\n",
      "2\n",
      "4\n",
      "6\n",
      "8\n"
     ]
    }
   ],
   "source": [
    "def even_numbers(n):\n",
    "    for i in range(n):\n",
    "        if i % 2 == 0:\n",
    "            yield i\n",
    "\n",
    "# Create a generator object using the even_numbers() function\n",
    "even_gen = even_numbers(10)\n",
    "\n",
    "# Iterate over the generator object and print each even number\n",
    "for num in even_gen:\n",
    "    print(num)\n"
   ]
  },
  {
   "cell_type": "code",
   "execution_count": null,
   "id": "803fc8f5-6a2c-45cb-af58-6eef0fcccc4f",
   "metadata": {},
   "outputs": [],
   "source": []
  },
  {
   "cell_type": "markdown",
   "id": "3d8c8871-7863-4300-b4e2-ddef033298d0",
   "metadata": {},
   "source": [
    "# Q5. Create a generator function for prime numbers less than 1000. Use the next() method to print the first 20 prime numbers."
   ]
  },
  {
   "cell_type": "code",
   "execution_count": 7,
   "id": "4fd81a65-83af-4ee3-b2d7-32db09bcd213",
   "metadata": {},
   "outputs": [
    {
     "name": "stdout",
     "output_type": "stream",
     "text": [
      "2\n",
      "3\n",
      "5\n",
      "7\n",
      "11\n",
      "13\n",
      "17\n",
      "19\n",
      "23\n",
      "29\n",
      "31\n",
      "37\n",
      "41\n",
      "43\n",
      "47\n",
      "53\n",
      "59\n",
      "61\n",
      "67\n",
      "71\n"
     ]
    }
   ],
   "source": [
    "def primes_gen():\n",
    "    num = 2\n",
    "    while num < 1000:\n",
    "        is_prime = True\n",
    "        for i in range(2, num):\n",
    "            if num % i == 0:\n",
    "                is_prime = False\n",
    "                break\n",
    "        if is_prime:\n",
    "            yield num\n",
    "        num += 1\n",
    "\n",
    "# Create a generator object using the primes_gen() function\n",
    "prime_gen = primes_gen()\n",
    "\n",
    "# Use the next() method to print the first 20 prime numbers\n",
    "for i in range(20):\n",
    "    print(next(prime_gen))\n"
   ]
  },
  {
   "cell_type": "code",
   "execution_count": null,
   "id": "8ae5047b-2b09-400c-96f4-b0d25f199d0f",
   "metadata": {},
   "outputs": [],
   "source": []
  },
  {
   "cell_type": "markdown",
   "id": "14d870ec-367d-4adf-bf1c-2d18e90972b3",
   "metadata": {},
   "source": [
    "# Q6. Write a python program to print the first 10 Fibonacci numbers using a while loop."
   ]
  },
  {
   "cell_type": "code",
   "execution_count": 8,
   "id": "a10b5af8-64ee-4e3c-814c-d7a045d35e5d",
   "metadata": {},
   "outputs": [
    {
     "name": "stdout",
     "output_type": "stream",
     "text": [
      "0 1 1 2 3 5 8 13 21 34 "
     ]
    }
   ],
   "source": [
    "# Initialize the first two terms of the Fibonacci sequence\n",
    "n1, n2 = 0, 1\n",
    "\n",
    "# Initialize a counter and the maximum number of terms to print\n",
    "count, max_count = 0, 10\n",
    "\n",
    "# Use a while loop to print the first 10 Fibonacci numbers\n",
    "while count < max_count:\n",
    "    print(n1, end=' ')\n",
    "    nth = n1 + n2\n",
    "    # Update the values of n1 and n2 to generate the next term\n",
    "    n1, n2 = n2, nth\n",
    "    count += 1\n"
   ]
  },
  {
   "cell_type": "code",
   "execution_count": null,
   "id": "40c8b894-7906-4478-81ae-ca2402e09784",
   "metadata": {},
   "outputs": [],
   "source": []
  },
  {
   "cell_type": "markdown",
   "id": "0e4b1da6-2d36-4eaa-ae52-658bacd9d9f6",
   "metadata": {},
   "source": [
    "# Q7. Write a List Comprehension to iterate through the given string: ‘pwskills’. Expected output: ['p', 'w', 's', 'k', 'i', 'l', 'l', 's']"
   ]
  },
  {
   "cell_type": "code",
   "execution_count": 16,
   "id": "1c15653c-7ed2-4036-8f20-d9b7bff1f13f",
   "metadata": {},
   "outputs": [
    {
     "name": "stdout",
     "output_type": "stream",
     "text": [
      "['p', 'w', 's', 'k', 'i', 'l', 'l', 's']\n"
     ]
    }
   ],
   "source": [
    "string = 'pwskills'\n",
    "unique_chars = [i for i in string]\n",
    "print(unique_chars)\n"
   ]
  },
  {
   "cell_type": "code",
   "execution_count": null,
   "id": "93410a02-77e2-4bf3-9c56-1c29c37ac1a7",
   "metadata": {},
   "outputs": [],
   "source": []
  },
  {
   "cell_type": "markdown",
   "id": "6f408f24-c6bc-4907-b638-7e84b649d6d5",
   "metadata": {},
   "source": [
    "# Q8. Write a python program to check whether a given number is Palindrome or not using a while loop."
   ]
  },
  {
   "cell_type": "code",
   "execution_count": 17,
   "id": "d74e6a6a-0df8-4eaa-8fcc-30bcf827c1d9",
   "metadata": {},
   "outputs": [
    {
     "name": "stdin",
     "output_type": "stream",
     "text": [
      "Enter a number:  4\n"
     ]
    },
    {
     "name": "stdout",
     "output_type": "stream",
     "text": [
      "4 is a palindrome number\n"
     ]
    }
   ],
   "source": [
    "num = int(input(\"Enter a number: \"))\n",
    "temp = num\n",
    "rev_num = 0\n",
    "\n",
    "while temp > 0:\n",
    "    digit = temp % 10\n",
    "    rev_num = (rev_num * 10) + digit\n",
    "    temp //= 10\n",
    "\n",
    "if num == rev_num:\n",
    "    print(num, \"is a palindrome number\")\n",
    "else:\n",
    "    print(num, \"is not a palindrome number\")\n"
   ]
  },
  {
   "cell_type": "code",
   "execution_count": null,
   "id": "df938b38-0e38-4fcc-8692-34b3d2a38956",
   "metadata": {},
   "outputs": [],
   "source": []
  },
  {
   "cell_type": "markdown",
   "id": "94c3b7e8-69df-45ab-be4f-46cea18b64c5",
   "metadata": {},
   "source": [
    "# Q9. Write a code to print odd numbers from 1 to 100 using list comprehension."
   ]
  },
  {
   "cell_type": "code",
   "execution_count": 18,
   "id": "eb34d58b-2790-43e8-9278-6f2186921d00",
   "metadata": {},
   "outputs": [
    {
     "name": "stdout",
     "output_type": "stream",
     "text": [
      "[1, 3, 5, 7, 9, 11, 13, 15, 17, 19, 21, 23, 25, 27, 29, 31, 33, 35, 37, 39, 41, 43, 45, 47, 49, 51, 53, 55, 57, 59, 61, 63, 65, 67, 69, 71, 73, 75, 77, 79, 81, 83, 85, 87, 89, 91, 93, 95, 97, 99]\n"
     ]
    }
   ],
   "source": [
    "odd_numbers = [num for num in range(1, 101) if num % 2 != 0]\n",
    "print(odd_numbers)\n"
   ]
  },
  {
   "cell_type": "code",
   "execution_count": null,
   "id": "3698c3bc-b53e-4ff7-afdb-a7961b28c22c",
   "metadata": {},
   "outputs": [],
   "source": []
  }
 ],
 "metadata": {
  "kernelspec": {
   "display_name": "Python 3 (ipykernel)",
   "language": "python",
   "name": "python3"
  },
  "language_info": {
   "codemirror_mode": {
    "name": "ipython",
    "version": 3
   },
   "file_extension": ".py",
   "mimetype": "text/x-python",
   "name": "python",
   "nbconvert_exporter": "python",
   "pygments_lexer": "ipython3",
   "version": "3.10.8"
  }
 },
 "nbformat": 4,
 "nbformat_minor": 5
}
