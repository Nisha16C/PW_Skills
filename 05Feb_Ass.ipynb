{
 "cells": [
  {
   "cell_type": "markdown",
   "id": "572802ad-f3b6-43c5-b2db-210fd614db19",
   "metadata": {},
   "source": [
    "# Q1. Explain Class and Object with respect to Object-Oriented Programming. Give a suitable example."
   ]
  },
  {
   "cell_type": "markdown",
   "id": "dc05e515-1d52-4a0c-9682-8c4abc2cc92e",
   "metadata": {
    "tags": []
   },
   "source": [
    "### Class and Object\n",
    "In object-oriented programming, a class is a blueprint for creating objects, which are instances of that class. It defines a set of attributes and methods that are common to all objects of that class. An object is an instance of a class, which contains its own unique set of values for the class attributes.\n",
    "\n",
    "For example, let's consider the class \"Person\", which has two attributes \"name\" and \"age\", and a method \"introduce_self\" that prints out the name and age of the person. Here's how we can create an object of this class:"
   ]
  },
  {
   "cell_type": "code",
   "execution_count": 10,
   "id": "f1e48721-825b-47c2-803a-10a6b882a065",
   "metadata": {},
   "outputs": [
    {
     "name": "stdout",
     "output_type": "stream",
     "text": [
      "My name is John and I am 25 years old.\n"
     ]
    }
   ],
   "source": [
    "class Person:\n",
    "    def __init__(self, name, age):\n",
    "        self.name = name\n",
    "        self.age = age\n",
    "\n",
    "    def introduce_self(self):\n",
    "        print(\"My name is\", self.name, \"and I am\", self.age, \"years old.\")\n",
    "\n",
    "person1 = Person(\"John\", 25)\n",
    "person1.introduce_self()\n",
    "\n"
   ]
  },
  {
   "cell_type": "markdown",
   "id": "8b880ac5-a23c-413a-bf63-9774a76cbe64",
   "metadata": {},
   "source": [
    "In this example, we first define the class \"Person\" with two attributes: \"name\" and \"age\". We also define a method \"introduce_self\" that prints out the name and age of the person. We then create an object \"person1\" of the class \"Person\" with the name \"John\" and age 25. Finally, we call the method \"introduce_self\" on the object \"person1\" to print out its name and age.\n",
    "\n",
    "This is a simple example of how we can use classes and objects in object-oriented programming to represent real-world entities and their properties."
   ]
  },
  {
   "cell_type": "markdown",
   "id": "2b16d217-a2a8-4480-9926-2cf3642d4c0c",
   "metadata": {},
   "source": [
    "# Q2. Name the four pillars of OOPs."
   ]
  },
  {
   "cell_type": "markdown",
   "id": "dd366465-061e-4205-82bd-eb723d40f417",
   "metadata": {},
   "source": [
    "### The four pillars of Object-Oriented Programming (OOPs) are:\n",
    "\n",
    "1. Encapsulation: It is the concept of bundling data and methods that operate on that data within one unit or capsule, i.e., a class.\n",
    "\n",
    "2. Abstraction: It is the process of hiding complex implementation details and showing only essential features of the object.\n",
    "\n",
    "3. Inheritance: It is the concept of creating a new class from an existing class. The new class can inherit the properties and methods of the parent class, and can also have its own unique properties and methods.\n",
    "\n",
    "4. Polymorphism: It is the ability of objects to take on many forms or have many behaviors. In OOPs, polymorphism allows objects of different classes to be used interchangeably, providing flexibility and modularity to the code.\n",
    "\n",
    "\n",
    "\n",
    "\n"
   ]
  },
  {
   "cell_type": "markdown",
   "id": "169d73aa-03d4-4cba-911a-f7d657eff89d",
   "metadata": {},
   "source": [
    "# Q3. Explain why the __init__() function is used. Give a suitable example."
   ]
  },
  {
   "cell_type": "markdown",
   "id": "0de2d089-a031-4c37-8bfa-c7c4a769e41d",
   "metadata": {},
   "source": [
    "The __init__() function is a special method in Python that is used to initialize the instance variables of a class when an object is created. It is also called a constructor method.\n",
    "\n",
    "When we create an object of a class, the __init__() function is automatically called with that object, and it initializes the attributes of the object with the values passed as parameters. This function is used to assign values to the attributes of an object and set up its initial state.\n",
    "\n",
    "Here is an example of how to use the __init__() function in Python:\n",
    "\n"
   ]
  },
  {
   "cell_type": "code",
   "execution_count": 11,
   "id": "33d8ac74-6bac-4cb8-af9b-2a67d8cf314b",
   "metadata": {},
   "outputs": [
    {
     "name": "stdout",
     "output_type": "stream",
     "text": [
      "Ford Mustang 2020\n"
     ]
    }
   ],
   "source": [
    "class Car:\n",
    "    def __init__(self, make, model, year):\n",
    "        self.make = make\n",
    "        self.model = model\n",
    "        self.year = year\n",
    "        \n",
    "    def get_description(self):\n",
    "        desc = f\"{self.make} {self.model} {self.year}\"\n",
    "        return desc\n",
    "\n",
    "my_car = Car(\"Ford\", \"Mustang\", 2020)\n",
    "print(my_car.get_description())\n"
   ]
  },
  {
   "cell_type": "markdown",
   "id": "ce928e18-27e4-49b2-85fe-9bb22241ccb9",
   "metadata": {},
   "source": [
    "# Q4. Why self is used in OOPs?"
   ]
  },
  {
   "cell_type": "markdown",
   "id": "ba214a83-ba14-4d26-91fe-c04e55640a78",
   "metadata": {},
   "source": [
    "In Python, self is used to refer to the instance of a class. It is a convention to use self as the first parameter of any method in a class. When a method is called, Python automatically passes the instance as the first argument to the method. By convention, this parameter is named self.\n",
    "\n",
    "The use of self allows an instance of a class to access its own attributes and methods. It provides a way for each instance of a class to have its own set of data.\n",
    "\n",
    "For example, consider a Person class that has attributes like name, age, and gender, and a method to introduce the person. The self parameter allows the method to access the instance's attributes:"
   ]
  },
  {
   "cell_type": "code",
   "execution_count": 12,
   "id": "ea31020b-2a91-471b-bfa9-3c16781104e4",
   "metadata": {},
   "outputs": [
    {
     "name": "stdout",
     "output_type": "stream",
     "text": [
      "Hi, my name is John and I am a male who is 30 years old.\n"
     ]
    }
   ],
   "source": [
    "class Person:\n",
    "    def __init__(self, name, age, gender):\n",
    "        self.name = name\n",
    "        self.age = age\n",
    "        self.gender = gender\n",
    "        \n",
    "    def introduce(self):\n",
    "        print(\"Hi, my name is\", self.name, \"and I am a\", self.gender, \"who is\", self.age, \"years old.\")\n",
    "\n",
    "person = Person(\"John\", 30, \"male\")\n",
    "person.introduce()  # Output: Hi, my name is John and I am a male who is 30 years old.\n"
   ]
  },
  {
   "cell_type": "markdown",
   "id": "10450909-0aa1-47b8-a661-2cf390842dc2",
   "metadata": {},
   "source": [
    "In this example, self.name, self.age, and self.gender refer to the instance's attributes, and self is used to pass the instance to the introduce() method.\n",
    "\n",
    "\n",
    "\n",
    "\n"
   ]
  },
  {
   "cell_type": "markdown",
   "id": "515961a7-c349-4dc8-90e4-f54b76a59afa",
   "metadata": {},
   "source": [
    "# Q5. What is inheritance? Give an example for each type of inheritance."
   ]
  },
  {
   "cell_type": "markdown",
   "id": "33b8f410-acaa-4df9-840c-3885274b1e40",
   "metadata": {},
   "source": [
    "Inheritance is one of the fundamental concepts in object-oriented programming (OOP) that allows creating a new class (derived or child class) from an existing class (base or parent class). The derived class inherits all the properties (attributes and methods) of the parent class and can also add its own properties."
   ]
  },
  {
   "cell_type": "markdown",
   "id": "243fdf15-1e92-41df-baed-b53b836edc06",
   "metadata": {},
   "source": [
    "### Inheitance\n",
    "Inheritance is one of the fundamental concepts in object-oriented programming (OOP) that allows creating a new class (derived or child class) from an existing class (base or parent class). The derived class inherits all the properties (attributes and methods) of the parent class and can also add its own properties.\n",
    "\n",
    "### There are four types of inheritance:\n",
    "\n",
    "1. Single inheritance: A derived class with only one parent class is called single inheritance. In this type of inheritance, the derived class inherits all the properties of the parent class. For example:"
   ]
  },
  {
   "cell_type": "code",
   "execution_count": 1,
   "id": "9554b9b1-61ce-49a3-aff7-08d5c022410b",
   "metadata": {},
   "outputs": [
    {
     "name": "stdout",
     "output_type": "stream",
     "text": [
      "Rufus\n",
      "Woof!\n"
     ]
    }
   ],
   "source": [
    "class Animal:\n",
    "    def __init__(self, name):\n",
    "        self.name = name\n",
    "\n",
    "    def speak(self):\n",
    "        pass\n",
    "\n",
    "class Dog(Animal):\n",
    "    def speak(self):\n",
    "        return \"Woof!\"\n",
    "\n",
    "d = Dog(\"Rufus\")\n",
    "print(d.name)   # Output: Rufus\n",
    "print(d.speak())    # Output: Woof!\n"
   ]
  },
  {
   "cell_type": "markdown",
   "id": "ea64a867-dff0-48d3-888d-fc2539bbe82e",
   "metadata": {},
   "source": [
    "2. Multiple inheritance: A derived class with more than one parent class is called multiple inheritance. In this type of inheritance, the derived class inherits all the properties of both the parent classes. For example:"
   ]
  },
  {
   "cell_type": "code",
   "execution_count": 2,
   "id": "a1420d78-c8e3-49ed-9071-2f7d055f73ef",
   "metadata": {},
   "outputs": [
    {
     "name": "stdout",
     "output_type": "stream",
     "text": [
      "John\n",
      "40\n",
      "101\n",
      "50000\n"
     ]
    }
   ],
   "source": [
    "class Person:\n",
    "    def __init__(self, name, age):\n",
    "        self.name = name\n",
    "        self.age = age\n",
    "\n",
    "class Employee:\n",
    "    def __init__(self, emp_id, salary):\n",
    "        self.emp_id = emp_id\n",
    "        self.salary = salary\n",
    "\n",
    "class Manager(Person, Employee):\n",
    "    def __init__(self, name, age, emp_id, salary):\n",
    "        Person.__init__(self, name, age)\n",
    "        Employee.__init__(self, emp_id, salary)\n",
    "\n",
    "m = Manager(\"John\", 40, 101, 50000)\n",
    "print(m.name)   # Output: John\n",
    "print(m.age)    # Output: 40\n",
    "print(m.emp_id) # Output: 101\n",
    "print(m.salary) # Output: 50000\n"
   ]
  },
  {
   "cell_type": "markdown",
   "id": "4be288b1-753d-49e1-9e83-6c0a5d1788a7",
   "metadata": {},
   "source": [
    "3. Hierarchical inheritance: A derived class with more than one child classes is called hierarchical inheritance. In this type of inheritance, the parent class is the same for all the child classes. For example:"
   ]
  },
  {
   "cell_type": "code",
   "execution_count": 3,
   "id": "d0d235f8-0a12-4e10-ad56-4f1d1dc115cc",
   "metadata": {},
   "outputs": [
    {
     "name": "stdout",
     "output_type": "stream",
     "text": [
      "Rufus\n",
      "Woof!\n",
      "Whiskers\n",
      "Meow!\n"
     ]
    }
   ],
   "source": [
    "class Animal:\n",
    "    def __init__(self, name):\n",
    "        self.name = name\n",
    "\n",
    "    def speak(self):\n",
    "        pass\n",
    "\n",
    "class Dog(Animal):\n",
    "    def speak(self):\n",
    "        return \"Woof!\"\n",
    "\n",
    "class Cat(Animal):\n",
    "    def speak(self):\n",
    "        return \"Meow!\"\n",
    "\n",
    "d = Dog(\"Rufus\")\n",
    "c = Cat(\"Whiskers\")\n",
    "print(d.name)   # Output: Rufus\n",
    "print(d.speak())    # Output: Woof!\n",
    "print(c.name)   # Output: Whiskers\n",
    "print(c.speak())    # Output: Meow!\n"
   ]
  },
  {
   "cell_type": "markdown",
   "id": "fb9c90fa-4c41-463b-ae2a-1adf6ee0d5b4",
   "metadata": {},
   "source": [
    "4. Multilevel inheritance: A derived class with one or more parent classes, where each parent class is itself derived from another class, is called multilevel inheritance. For example:"
   ]
  },
  {
   "cell_type": "code",
   "execution_count": 4,
   "id": "3ab4b077-a041-44b8-b579-56bf2ff12456",
   "metadata": {},
   "outputs": [
    {
     "name": "stdout",
     "output_type": "stream",
     "text": [
      "Rufus\n",
      "Woof!\n"
     ]
    }
   ],
   "source": [
    "class Animal:\n",
    "    def __init__(self, name):\n",
    "        self.name = name\n",
    "\n",
    "    def speak(self):\n",
    "        pass\n",
    "\n",
    "class Mammal(Animal):\n",
    "    def feed_milk(self):\n",
    "        pass\n",
    "\n",
    "class Dog(Mammal):\n",
    "    def speak(self):\n",
    "        return \"Woof!\"\n",
    "\n",
    "d = Dog(\"Rufus\")\n",
    "print(d.name)   # Output: Rufus\n",
    "print(d.speak())    # Output: Woof!\n"
   ]
  },
  {
   "cell_type": "code",
   "execution_count": null,
   "id": "a2179042-663c-4fa2-bd0a-67971dbac999",
   "metadata": {},
   "outputs": [],
   "source": []
  }
 ],
 "metadata": {
  "kernelspec": {
   "display_name": "Python 3 (ipykernel)",
   "language": "python",
   "name": "python3"
  },
  "language_info": {
   "codemirror_mode": {
    "name": "ipython",
    "version": 3
   },
   "file_extension": ".py",
   "mimetype": "text/x-python",
   "name": "python",
   "nbconvert_exporter": "python",
   "pygments_lexer": "ipython3",
   "version": "3.10.8"
  }
 },
 "nbformat": 4,
 "nbformat_minor": 5
}
