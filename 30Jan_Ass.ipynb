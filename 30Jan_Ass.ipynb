{
 "cells": [
  {
   "cell_type": "markdown",
   "id": "fd1876ca-65e6-4480-95db-37406c093e16",
   "metadata": {},
   "source": [
    "# Q1. write a progam to accept percentage from the user and display the grade according to the following criteria:"
   ]
  },
  {
   "cell_type": "code",
   "execution_count": 2,
   "id": "c2c61ef0-7ab2-458e-9a09-4c8f4a441fad",
   "metadata": {},
   "outputs": [
    {
     "name": "stdin",
     "output_type": "stream",
     "text": [
      "Enter the percentage:  88\n"
     ]
    },
    {
     "name": "stdout",
     "output_type": "stream",
     "text": [
      "Grade B\n"
     ]
    }
   ],
   "source": [
    "percentage = float(input(\"Enter the percentage: \"))\n",
    "\n",
    "if percentage > 90:\n",
    "    print(\"Grade A\")\n",
    "elif percentage > 80 and percentage <= 90:\n",
    "    print(\"Grade B\")\n",
    "elif percentage >= 60 and percentage <= 80:\n",
    "    print(\"Grade C\")\n",
    "else:\n",
    "    print(\"Grade D\")\n"
   ]
  },
  {
   "cell_type": "code",
   "execution_count": null,
   "id": "f45889d8-763e-4eaa-bf2f-0b672e3b3a8d",
   "metadata": {},
   "outputs": [],
   "source": []
  },
  {
   "cell_type": "markdown",
   "id": "0f6ca054-a1a3-483d-b68b-f06082d055d1",
   "metadata": {},
   "source": [
    "# Q2. write a program to accept the cost price of a bike and display the road tax to be paid according to the following criteria "
   ]
  },
  {
   "cell_type": "code",
   "execution_count": 3,
   "id": "bbcd7854-1163-41c0-ad86-256a0743572e",
   "metadata": {},
   "outputs": [
    {
     "name": "stdin",
     "output_type": "stream",
     "text": [
      "Enter the cost price of the bike:  599\n"
     ]
    },
    {
     "name": "stdout",
     "output_type": "stream",
     "text": [
      "The road tax to be paid is Rs.  29.950000000000003\n"
     ]
    }
   ],
   "source": [
    "cost_price = float(input(\"Enter the cost price of the bike: \"))\n",
    "\n",
    "if cost_price > 100000:\n",
    "    road_tax = cost_price * 0.15\n",
    "elif cost_price > 50000 and cost_price <= 100000:\n",
    "    road_tax = cost_price * 0.10\n",
    "else:\n",
    "    road_tax = cost_price * 0.05\n",
    "\n",
    "print(\"The road tax to be paid is Rs. \", road_tax)\n"
   ]
  },
  {
   "cell_type": "code",
   "execution_count": null,
   "id": "6c8e8b48-4744-482e-891d-4b354a1d0cfc",
   "metadata": {},
   "outputs": [],
   "source": []
  },
  {
   "cell_type": "markdown",
   "id": "2f6b7111-ca21-4a56-99a2-ccfc028c1900",
   "metadata": {},
   "source": [
    "# Q3. Accept any city from the user and display monuments of that city"
   ]
  },
  {
   "cell_type": "code",
   "execution_count": 12,
   "id": "8a49e029-ba32-4f48-b731-9b2a4a61da4b",
   "metadata": {},
   "outputs": [
    {
     "name": "stdin",
     "output_type": "stream",
     "text": [
      "Enter the city name:  jaipur\n"
     ]
    },
    {
     "name": "stdout",
     "output_type": "stream",
     "text": [
      "The monument of Jaipur is Jal Mahal.\n"
     ]
    }
   ],
   "source": [
    "city = input(\"Enter the city name: \")\n",
    "\n",
    "if city.lower() == \"delhi\":\n",
    "    print(\"The monument of Delhi is Red Fort.\")\n",
    "elif city.lower() == \"agra\":\n",
    "    print(\"The monument of Agra is Taj Mahal.\")\n",
    "elif city.lower() == \"jaipur\":\n",
    "    print(\"The monument of Jaipur is Jal Mahal.\")\n",
    "else:\n",
    "    print(\"Sorry, we do not have information about the monument of\", city + \".\")\n"
   ]
  },
  {
   "cell_type": "markdown",
   "id": "bdda302e-6580-4998-b659-6de3a94e0bc5",
   "metadata": {},
   "source": [
    "# Q4. check how many times a given number can be devided by 3 before it is less than or equal to 10."
   ]
  },
  {
   "cell_type": "code",
   "execution_count": 1,
   "id": "cc272e0f-06be-4b7f-9a13-30aa1c3fe131",
   "metadata": {},
   "outputs": [
    {
     "name": "stdin",
     "output_type": "stream",
     "text": [
      "Enter a number:  4\n"
     ]
    },
    {
     "name": "stdout",
     "output_type": "stream",
     "text": [
      "The number can be divided by 3 0 times before it is less than or equal to 10.\n"
     ]
    }
   ],
   "source": [
    "number = int(input(\"Enter a number: \"))\n",
    "count = 0\n",
    "\n",
    "while number > 10:\n",
    "    number /= 3\n",
    "    count += 1\n",
    "\n",
    "print(\"The number can be divided by 3\", count, \"times before it is less than or equal to 10.\")\n"
   ]
  },
  {
   "cell_type": "markdown",
   "id": "40d84394-7a00-4b89-9010-0b79915150ce",
   "metadata": {},
   "source": [
    "# Q5. why and when to use while loop in python give a detailed description with example"
   ]
  },
  {
   "cell_type": "markdown",
   "id": "1afa5976-dad8-4003-b475-d2f8ff6f1f79",
   "metadata": {},
   "source": [
    "A while loop is a type of loop in Python that is used to repeatedly execute a block of code as long as a certain condition is true. The condition is checked at the beginning of each iteration of the loop, and if it is true, the loop body is executed. This process continues until the condition becomes false.\n",
    "\n",
    "While loops are commonly used in Python for a variety of tasks, such as iterating over a sequence, processing data, and controlling program flow. They are particularly useful when the number of iterations required is not known in advance, or when the loop needs to continue until a certain condition is met.\n",
    "\n",
    "Here's an example that demonstrates how a while loop can be used to repeatedly prompt the user to enter a positive integer until a valid input is received:"
   ]
  },
  {
   "cell_type": "code",
   "execution_count": 2,
   "id": "69b2b2a9-10de-454a-8f85-dd23c8c31bc6",
   "metadata": {},
   "outputs": [
    {
     "name": "stdin",
     "output_type": "stream",
     "text": [
      "Enter a positive integer:  3\n"
     ]
    },
    {
     "name": "stdout",
     "output_type": "stream",
     "text": [
      "You entered: 3\n"
     ]
    }
   ],
   "source": [
    "number = 0\n",
    "\n",
    "while number <= 0:\n",
    "    number = int(input(\"Enter a positive integer: \"))\n",
    "\n",
    "print(\"You entered:\", number)\n"
   ]
  },
  {
   "cell_type": "markdown",
   "id": "ded45478-7a04-4aee-80ee-bbeeba7450fc",
   "metadata": {},
   "source": [
    "Another example of using a while loop is to calculate the sum of numbers from 1 to n. Here's how you can use a while loop to achieve this:"
   ]
  },
  {
   "cell_type": "code",
   "execution_count": 3,
   "id": "320f7e27-f2ec-4fae-9c67-f4392ffccb25",
   "metadata": {},
   "outputs": [
    {
     "name": "stdin",
     "output_type": "stream",
     "text": [
      "Enter a positive integer:  45\n"
     ]
    },
    {
     "name": "stdout",
     "output_type": "stream",
     "text": [
      "The sum of numbers from 1 to 45 is 1035\n"
     ]
    }
   ],
   "source": [
    "n = int(input(\"Enter a positive integer: \"))\n",
    "sum = 0\n",
    "i = 1\n",
    "\n",
    "while i <= n:\n",
    "    sum += i\n",
    "    i += 1\n",
    "\n",
    "print(\"The sum of numbers from 1 to\", n, \"is\", sum)\n"
   ]
  },
  {
   "cell_type": "code",
   "execution_count": null,
   "id": "30e38a72-67f9-420e-b077-504170960c94",
   "metadata": {},
   "outputs": [],
   "source": []
  },
  {
   "cell_type": "markdown",
   "id": "5e91c5f4-ea37-4fb7-8275-82ac841d700e",
   "metadata": {},
   "source": [
    "# Q6. use nested while loop to print 3 different pattern"
   ]
  },
  {
   "cell_type": "markdown",
   "id": "764d98ed-8dd1-41ca-a93c-70bf6b2cc81c",
   "metadata": {},
   "source": [
    "### Pattern 1:"
   ]
  },
  {
   "cell_type": "markdown",
   "id": "ff937b5f-4191-4d51-89e7-4fbbcd0b1194",
   "metadata": {},
   "source": [
    "*\n",
    "**\n",
    "***\n",
    "****\n",
    "*****\n"
   ]
  },
  {
   "cell_type": "code",
   "execution_count": 5,
   "id": "1c39defa-dc90-4f15-adb7-dbd1f050048e",
   "metadata": {},
   "outputs": [
    {
     "name": "stdout",
     "output_type": "stream",
     "text": [
      "*\n",
      "**\n",
      "***\n",
      "****\n",
      "*****\n"
     ]
    }
   ],
   "source": [
    "# Pattern 1\n",
    "\n",
    "i = 1\n",
    "\n",
    "while i <= 5:\n",
    "    j = 1\n",
    "    while j <= i:\n",
    "        print(\"*\", end=\"\")\n",
    "        j += 1\n",
    "    print()\n",
    "    i += 1\n"
   ]
  },
  {
   "cell_type": "markdown",
   "id": "ad0cbc45-0df6-4354-8d0f-5f75877397c2",
   "metadata": {
    "tags": []
   },
   "source": [
    "### Pattern 2:"
   ]
  },
  {
   "cell_type": "markdown",
   "id": "8ad62a31-372a-4998-91f2-e2a4342c68fd",
   "metadata": {},
   "source": [
    "1\n",
    "12\n",
    "123\n",
    "1234\n",
    "12345\n"
   ]
  },
  {
   "cell_type": "code",
   "execution_count": 6,
   "id": "c883ca19-c2f5-4ccf-968d-d5727429b911",
   "metadata": {},
   "outputs": [
    {
     "name": "stdout",
     "output_type": "stream",
     "text": [
      "1\n",
      "12\n",
      "123\n",
      "1234\n",
      "12345\n"
     ]
    }
   ],
   "source": [
    "# Pattern 2\n",
    "\n",
    "i = 1\n",
    "\n",
    "while i <= 5:\n",
    "    j = 1\n",
    "    while j <= i:\n",
    "        print(j, end=\"\")\n",
    "        j += 1\n",
    "    print()\n",
    "    i += 1\n"
   ]
  },
  {
   "cell_type": "markdown",
   "id": "1d8fffbe-6a73-4261-b0a8-bb58e68f699d",
   "metadata": {},
   "source": [
    "### Pattern 3:"
   ]
  },
  {
   "cell_type": "markdown",
   "id": "8e1a9d1e-92e2-406b-9efb-3d6b55ad9132",
   "metadata": {},
   "source": [
    "1\n",
    "22\n",
    "333\n",
    "4444\n",
    "55555\n"
   ]
  },
  {
   "cell_type": "code",
   "execution_count": 7,
   "id": "028fba8c-409e-40bb-9b57-e31715a6136f",
   "metadata": {},
   "outputs": [
    {
     "name": "stdout",
     "output_type": "stream",
     "text": [
      "1\n",
      "22\n",
      "333\n",
      "4444\n",
      "55555\n"
     ]
    }
   ],
   "source": [
    "# Pattern 3\n",
    "\n",
    "i = 1\n",
    "\n",
    "while i <= 5:\n",
    "    j = 1\n",
    "    while j <= i:\n",
    "        print(i, end=\"\")\n",
    "        j += 1\n",
    "    print()\n",
    "    i += 1\n"
   ]
  },
  {
   "cell_type": "code",
   "execution_count": null,
   "id": "5b2968a5-d7c3-4818-8100-e9c511623718",
   "metadata": {},
   "outputs": [],
   "source": []
  },
  {
   "cell_type": "markdown",
   "id": "88151931-3d19-4aeb-9395-c7330e17db07",
   "metadata": {},
   "source": [
    "# Q7. Reverse a while loop to display numbers 10 to 1"
   ]
  },
  {
   "cell_type": "code",
   "execution_count": 8,
   "id": "65b50891-bc5b-4ed9-8177-f66f9a9ec060",
   "metadata": {},
   "outputs": [
    {
     "name": "stdout",
     "output_type": "stream",
     "text": [
      "10\n",
      "9\n",
      "8\n",
      "7\n",
      "6\n",
      "5\n",
      "4\n",
      "3\n",
      "2\n",
      "1\n"
     ]
    }
   ],
   "source": [
    "num = 10\n",
    "\n",
    "while num >= 1:\n",
    "    print(num)\n",
    "    num -= 1\n"
   ]
  },
  {
   "cell_type": "markdown",
   "id": "2c6c256d-feac-493c-8255-a06af5c34d17",
   "metadata": {},
   "source": [
    "# Q8. Reverse a while loop to display numbers 1 to 10"
   ]
  },
  {
   "cell_type": "code",
   "execution_count": 9,
   "id": "c26744b4-2e55-4c64-9d51-8fda67349633",
   "metadata": {},
   "outputs": [
    {
     "name": "stdout",
     "output_type": "stream",
     "text": [
      "1\n",
      "2\n",
      "3\n",
      "4\n",
      "5\n",
      "6\n",
      "7\n",
      "8\n",
      "9\n",
      "10\n"
     ]
    }
   ],
   "source": [
    "num = 1\n",
    "\n",
    "while num <= 10:\n",
    "    print(num)\n",
    "    num += 1\n"
   ]
  },
  {
   "cell_type": "code",
   "execution_count": null,
   "id": "a0bfd008-f881-4034-9c30-544c78fe98cc",
   "metadata": {},
   "outputs": [],
   "source": []
  }
 ],
 "metadata": {
  "kernelspec": {
   "display_name": "Python 3 (ipykernel)",
   "language": "python",
   "name": "python3"
  },
  "language_info": {
   "codemirror_mode": {
    "name": "ipython",
    "version": 3
   },
   "file_extension": ".py",
   "mimetype": "text/x-python",
   "name": "python",
   "nbconvert_exporter": "python",
   "pygments_lexer": "ipython3",
   "version": "3.10.8"
  }
 },
 "nbformat": 4,
 "nbformat_minor": 5
}
