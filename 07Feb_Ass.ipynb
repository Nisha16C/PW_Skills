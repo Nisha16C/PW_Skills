{
 "cells": [
  {
   "cell_type": "markdown",
   "id": "65d55d64-0c6b-4d31-9fba-a593019d95b6",
   "metadata": {},
   "source": [
    "# Q1. You are writing code for a company. The requirement of the company is that you create a python function that will check whether the password entered by the user is correct or not. The function should take the password as input and return the string “Valid Password” if the entered password follows the below-given password guidelines else it should return “Invalid Password”.\n",
    "### Note: 1. The Password should contain at least two uppercase letters and at least two lowercase letters.\n",
    "### 2. The Password should contain at least a number and three special characters.\n",
    "### 3. The length of the password should be 10 characters long."
   ]
  },
  {
   "cell_type": "code",
   "execution_count": 25,
   "id": "54461e0c-3b4d-48c5-81a5-953e0de94f27",
   "metadata": {},
   "outputs": [],
   "source": [
    "import re\n",
    "\n",
    "def check_password(password):\n",
    "    # Password should be 10 characters long\n",
    "    if len(password) != 10:\n",
    "        return \"Invalid Password\"\n",
    "\n",
    "    # Password should contain at least 2 uppercase letters, 2 lowercase letters, 1 number, and 3 special characters\n",
    "    uppercase_letters = sum(1 for c in password if c.isupper())\n",
    "    lowercase_letters = sum(1 for c in password if c.islower())\n",
    "    numbers = sum(1 for c in password if c.isnumeric())\n",
    "    special_chars = sum(1 for c in password if not c.isalnum())\n",
    "\n",
    "    if uppercase_letters < 2 or lowercase_letters < 2 or numbers < 1 or special_chars < 3:\n",
    "        return \"Invalid Password\"\n",
    "\n",
    "    return \"Valid Password\"\n",
    "\n"
   ]
  },
  {
   "cell_type": "code",
   "execution_count": null,
   "id": "f46e4b4c-5702-4392-9f73-0f03c4ac5e5f",
   "metadata": {},
   "outputs": [],
   "source": []
  },
  {
   "cell_type": "markdown",
   "id": "4987fd56-6659-4bfb-883a-a31f0ff9c196",
   "metadata": {},
   "source": [
    "# Q2. Solve the below-given questions using at least one of the following:\n",
    "## 1. Lambda functioJ\n",
    "## 2. Filter functioJ\n",
    "## 3. Zap functioJ\n",
    "## 4. List Comprehensio\n",
    "\n",
    "* Check if the string starts with a particular letterY\n",
    "* Check if the string is numericY\n",
    "* Sort a list of tuples having fruit names and their quantity. [(\"mango\",99),(\"orange\",80), (\"grapes\", 1000)-\n",
    "* Find the squares of numbers from 1 to 10Y\n",
    "* Find the cube root of numbers from 1 to 10Y\n",
    "* Check if a given number is evenY\n",
    "* Filter odd numbers from the given list.\n",
    "[1,2,3,4,5,6,7,8,9,10-\n",
    "* Sort a list of integers into positive and negative integers lists.\n",
    "[1,2,3,4,5,6,-1,-2,-3,-4,-5,0]"
   ]
  },
  {
   "cell_type": "markdown",
   "id": "ecd31910-a25b-4569-9ccf-ce2d0c28fa9b",
   "metadata": {},
   "source": [
    "### 1. Check if the string starts with a particular letter:"
   ]
  },
  {
   "cell_type": "code",
   "execution_count": 13,
   "id": "8c0cc1f4-7c4e-49ee-ab7a-7e1f47fb9fef",
   "metadata": {},
   "outputs": [
    {
     "name": "stdout",
     "output_type": "stream",
     "text": [
      "['cherry']\n"
     ]
    }
   ],
   "source": [
    "# Using list comprehension:\n",
    "\n",
    "strings = [\"apple\", \"banana\", \"cherry\", \"date\"]\n",
    "starts_with_c = [s for s in strings if s.startswith('c')]\n",
    "print(starts_with_c)\n",
    "# Output: ['cherry']\n"
   ]
  },
  {
   "cell_type": "code",
   "execution_count": 14,
   "id": "95f54fb6-cec9-4bf1-aa1b-9c2e5bafd126",
   "metadata": {},
   "outputs": [
    {
     "name": "stdout",
     "output_type": "stream",
     "text": [
      "['cherry']\n"
     ]
    }
   ],
   "source": [
    "#  Using filter:\n",
    "\n",
    "\n",
    "strings = [\"apple\", \"banana\", \"cherry\", \"date\"]\n",
    "starts_with_c = list(filter(lambda s: s.startswith('c'), strings))\n",
    "print(starts_with_c)\n",
    "# Output: ['cherry']\n"
   ]
  },
  {
   "cell_type": "markdown",
   "id": "5a3ca612-29c9-4795-8fec-80834a3973f0",
   "metadata": {},
   "source": [
    "### 2. Check if the string is numeric:"
   ]
  },
  {
   "cell_type": "code",
   "execution_count": 16,
   "id": "66bf7542-89a3-4088-b5b1-7093ff704791",
   "metadata": {},
   "outputs": [
    {
     "name": "stdout",
     "output_type": "stream",
     "text": [
      "True\n"
     ]
    }
   ],
   "source": [
    "# Using lambda function:\n",
    "s = \"1234\"\n",
    "is_numeric = lambda s: s.isnumeric()\n",
    "print(is_numeric(s))\n",
    "# Output: True\n"
   ]
  },
  {
   "cell_type": "markdown",
   "id": "06ce9a6b-4fa1-43b5-8aba-988eab71f93f",
   "metadata": {},
   "source": [
    "### 3. Sort a list of tuples having fruit names and their quantity:\n"
   ]
  },
  {
   "cell_type": "code",
   "execution_count": 17,
   "id": "cf7a3d13-13ed-4b44-9bbc-67595786cd77",
   "metadata": {},
   "outputs": [
    {
     "name": "stdout",
     "output_type": "stream",
     "text": [
      "[('orange', 80), ('mango', 99), ('grapes', 1000)]\n"
     ]
    }
   ],
   "source": [
    "# Using lambda function and sorted:\n",
    "\n",
    "fruits = [(\"mango\",99),(\"orange\",80),(\"grapes\",1000)]\n",
    "sorted_fruits = sorted(fruits, key=lambda x: x[1])\n",
    "print(sorted_fruits)\n",
    "# Output: [('orange', 80), ('mango', 99), ('grapes', 1000)]\n"
   ]
  },
  {
   "cell_type": "markdown",
   "id": "bdd9970f-c1de-4f8c-b9a6-9588d29a58cb",
   "metadata": {},
   "source": [
    "### 4. Find the squares of numbers from 1 to 10:"
   ]
  },
  {
   "cell_type": "code",
   "execution_count": 18,
   "id": "f269420f-0bd9-4fd5-a923-fe49ee660713",
   "metadata": {},
   "outputs": [
    {
     "name": "stdout",
     "output_type": "stream",
     "text": [
      "[1, 4, 9, 16, 25, 36, 49, 64, 81, 100]\n"
     ]
    }
   ],
   "source": [
    "# Using list comprehension:\n",
    "\n",
    "squares = [i**2 for i in range(1, 11)]\n",
    "print(squares)\n",
    "# Output: [1, 4, 9, 16, 25, 36, 49, 64, 81, 100]\n"
   ]
  },
  {
   "cell_type": "markdown",
   "id": "fde8874c-f33a-4663-9870-18d0247b40bd",
   "metadata": {},
   "source": [
    "### 5. Find the cube root of numbers from 1 to 10:"
   ]
  },
  {
   "cell_type": "code",
   "execution_count": 19,
   "id": "a05e776a-22f6-4b24-9786-6f2d483ebeba",
   "metadata": {},
   "outputs": [
    {
     "name": "stdout",
     "output_type": "stream",
     "text": [
      "[1.0, 1.2599210498948732, 1.4422495703074083, 1.5874010519681994, 1.7099759466766968, 1.8171205928321397, 1.912931182772389, 2.0, 2.080083823051904, 2.154434690031884]\n"
     ]
    }
   ],
   "source": [
    "# Using list comprehension:\n",
    "\n",
    "import math\n",
    "cube_roots = [math.pow(i, 1/3) for i in range(1, 11)]\n",
    "print(cube_roots)\n",
    "# Output: [1.0, 1.2599210498948732, 1.4422495703074083, 1.5874010519681994, 1.7099759466766968, 1.8171205928321397, 1.912931182772389, 2.0, 2.080083823051904, 2.154434690031884]\n"
   ]
  },
  {
   "cell_type": "markdown",
   "id": "fb14d794-96f3-4fe6-a11a-72306117f204",
   "metadata": {},
   "source": [
    "### 6. Check if a given number is even:"
   ]
  },
  {
   "cell_type": "code",
   "execution_count": 20,
   "id": "a1895250-fa88-4f19-b9d9-db61b0523881",
   "metadata": {},
   "outputs": [
    {
     "name": "stdout",
     "output_type": "stream",
     "text": [
      "True\n"
     ]
    }
   ],
   "source": [
    "# Using lambda function:\n",
    "is_even = lambda x: x % 2 == 0\n",
    "print(is_even(4))\n",
    "# Output: True\n",
    "\n"
   ]
  },
  {
   "cell_type": "markdown",
   "id": "87ea2160-e5df-46a1-b027-c06e92919c4d",
   "metadata": {},
   "source": [
    "### 7. Filter odd numbers from the given list:"
   ]
  },
  {
   "cell_type": "code",
   "execution_count": 22,
   "id": "386eeea6-6214-4092-aa8c-fb55dab003a0",
   "metadata": {},
   "outputs": [
    {
     "name": "stdout",
     "output_type": "stream",
     "text": [
      "[1, 3, 5, 7, 9]\n"
     ]
    }
   ],
   "source": [
    "# Using filter:\n",
    "\n",
    "numbers = [1,2,3,4,5,6,7,8,9,10]\n",
    "odd_numbers = list(filter(lambda x: x % 2 == 1, numbers))\n",
    "print(odd_numbers)\n",
    "# Output: [1, 3, 5, 7, 9]\n"
   ]
  },
  {
   "cell_type": "markdown",
   "id": "c5913b82-67a5-488c-8227-b2829b5d16e2",
   "metadata": {},
   "source": [
    "### 8. Sort a list of integers into positive and negative integers lists:"
   ]
  },
  {
   "cell_type": "code",
   "execution_count": 24,
   "id": "6852b0c5-e20b-4145-a390-2c260935568f",
   "metadata": {},
   "outputs": [
    {
     "name": "stdout",
     "output_type": "stream",
     "text": [
      "[1, 2, 3, 4, 5, 6]\n",
      "[-1, -2, -3, -4, -5]\n"
     ]
    }
   ],
   "source": [
    "# Using list comprehension:\n",
    "\n",
    "numbers = [1,2,3,4,5,6,-1,-2,-3,-4,-5,0]\n",
    "positive_numbers = [n for n in numbers if n > 0]\n",
    "negative_numbers = [n for n in numbers if n < 0]\n",
    "\n",
    "print(positive_numbers)\n",
    "print(negative_numbers)\n",
    "# Output: positive_numbers=[1, 2, 3, 4, 5, 6]; negative_numbers=[-1, -2, -3, -4, -5, 0]\n"
   ]
  },
  {
   "cell_type": "code",
   "execution_count": null,
   "id": "45582f36-e178-40e4-b288-bc81e4fa7c67",
   "metadata": {},
   "outputs": [],
   "source": []
  }
 ],
 "metadata": {
  "kernelspec": {
   "display_name": "Python 3 (ipykernel)",
   "language": "python",
   "name": "python3"
  },
  "language_info": {
   "codemirror_mode": {
    "name": "ipython",
    "version": 3
   },
   "file_extension": ".py",
   "mimetype": "text/x-python",
   "name": "python",
   "nbconvert_exporter": "python",
   "pygments_lexer": "ipython3",
   "version": "3.10.8"
  }
 },
 "nbformat": 4,
 "nbformat_minor": 5
}
